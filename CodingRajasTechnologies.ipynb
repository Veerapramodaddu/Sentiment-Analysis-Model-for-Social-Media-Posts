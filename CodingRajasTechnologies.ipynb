{
  "nbformat": 4,
  "nbformat_minor": 0,
  "metadata": {
    "colab": {
      "provenance": []
    },
    "kernelspec": {
      "name": "python3",
      "display_name": "Python 3"
    },
    "language_info": {
      "name": "python"
    }
  },
  "cells": [
    {
      "cell_type": "code",
      "execution_count": 3,
      "metadata": {
        "colab": {
          "base_uri": "https://localhost:8080/",
          "height": 443
        },
        "id": "YkSz0XVgNo_v",
        "outputId": "07c36dd0-4c91-4bf7-9d72-0fec9e449511"
      },
      "outputs": [
        {
          "output_type": "stream",
          "name": "stderr",
          "text": [
            "[nltk_data] Downloading package wordnet to /root/nltk_data...\n",
            "[nltk_data]   Package wordnet is already up-to-date!\n",
            "[nltk_data] Downloading package stopwords to /root/nltk_data...\n",
            "[nltk_data]   Package stopwords is already up-to-date!\n"
          ]
        },
        {
          "output_type": "error",
          "ename": "FileNotFoundError",
          "evalue": "[Errno 2] No such file or directory: 'sentimentdep.csv'",
          "traceback": [
            "\u001b[0;31m---------------------------------------------------------------------------\u001b[0m",
            "\u001b[0;31mFileNotFoundError\u001b[0m                         Traceback (most recent call last)",
            "\u001b[0;32m<ipython-input-3-5dd6d0979ffb>\u001b[0m in \u001b[0;36m<cell line: 18>\u001b[0;34m()\u001b[0m\n\u001b[1;32m     16\u001b[0m         \u001b[0;32mreturn\u001b[0m \u001b[0mx\u001b[0m\u001b[0;34m+\u001b[0m\u001b[0;36m4\u001b[0m\u001b[0;34m\u001b[0m\u001b[0;34m\u001b[0m\u001b[0m\n\u001b[1;32m     17\u001b[0m \u001b[0;34m\u001b[0m\u001b[0m\n\u001b[0;32m---> 18\u001b[0;31m \u001b[0mtabledep\u001b[0m \u001b[0;34m=\u001b[0m \u001b[0mpd\u001b[0m\u001b[0;34m.\u001b[0m\u001b[0mread_csv\u001b[0m\u001b[0;34m(\u001b[0m\u001b[0;34m\"sentimentdep.csv\"\u001b[0m\u001b[0;34m)\u001b[0m\u001b[0;34m\u001b[0m\u001b[0;34m\u001b[0m\u001b[0m\n\u001b[0m\u001b[1;32m     19\u001b[0m \u001b[0mtabledep\u001b[0m\u001b[0;34m[\u001b[0m\u001b[0;34m\"label\"\u001b[0m\u001b[0;34m]\u001b[0m \u001b[0;34m=\u001b[0m \u001b[0mtabledep\u001b[0m\u001b[0;34m[\u001b[0m\u001b[0;34m\"label\"\u001b[0m\u001b[0;34m]\u001b[0m\u001b[0;34m.\u001b[0m\u001b[0mapply\u001b[0m\u001b[0;34m(\u001b[0m\u001b[0mgetsentiment\u001b[0m\u001b[0;34m)\u001b[0m\u001b[0;34m\u001b[0m\u001b[0;34m\u001b[0m\u001b[0m\n\u001b[1;32m     20\u001b[0m \u001b[0mcoldep\u001b[0m \u001b[0;34m=\u001b[0m \u001b[0;34m[\u001b[0m\u001b[0mtabledep\u001b[0m\u001b[0;34m[\u001b[0m\u001b[0;34m\"message\"\u001b[0m\u001b[0;34m]\u001b[0m\u001b[0;34m,\u001b[0m\u001b[0mtabledep\u001b[0m\u001b[0;34m[\u001b[0m\u001b[0;34m\"label\"\u001b[0m\u001b[0;34m]\u001b[0m\u001b[0;34m]\u001b[0m\u001b[0;34m\u001b[0m\u001b[0;34m\u001b[0m\u001b[0m\n",
            "\u001b[0;32m/usr/local/lib/python3.10/dist-packages/pandas/io/parsers/readers.py\u001b[0m in \u001b[0;36mread_csv\u001b[0;34m(filepath_or_buffer, sep, delimiter, header, names, index_col, usecols, dtype, engine, converters, true_values, false_values, skipinitialspace, skiprows, skipfooter, nrows, na_values, keep_default_na, na_filter, verbose, skip_blank_lines, parse_dates, infer_datetime_format, keep_date_col, date_parser, date_format, dayfirst, cache_dates, iterator, chunksize, compression, thousands, decimal, lineterminator, quotechar, quoting, doublequote, escapechar, comment, encoding, encoding_errors, dialect, on_bad_lines, delim_whitespace, low_memory, memory_map, float_precision, storage_options, dtype_backend)\u001b[0m\n\u001b[1;32m   1024\u001b[0m     \u001b[0mkwds\u001b[0m\u001b[0;34m.\u001b[0m\u001b[0mupdate\u001b[0m\u001b[0;34m(\u001b[0m\u001b[0mkwds_defaults\u001b[0m\u001b[0;34m)\u001b[0m\u001b[0;34m\u001b[0m\u001b[0;34m\u001b[0m\u001b[0m\n\u001b[1;32m   1025\u001b[0m \u001b[0;34m\u001b[0m\u001b[0m\n\u001b[0;32m-> 1026\u001b[0;31m     \u001b[0;32mreturn\u001b[0m \u001b[0m_read\u001b[0m\u001b[0;34m(\u001b[0m\u001b[0mfilepath_or_buffer\u001b[0m\u001b[0;34m,\u001b[0m \u001b[0mkwds\u001b[0m\u001b[0;34m)\u001b[0m\u001b[0;34m\u001b[0m\u001b[0;34m\u001b[0m\u001b[0m\n\u001b[0m\u001b[1;32m   1027\u001b[0m \u001b[0;34m\u001b[0m\u001b[0m\n\u001b[1;32m   1028\u001b[0m \u001b[0;34m\u001b[0m\u001b[0m\n",
            "\u001b[0;32m/usr/local/lib/python3.10/dist-packages/pandas/io/parsers/readers.py\u001b[0m in \u001b[0;36m_read\u001b[0;34m(filepath_or_buffer, kwds)\u001b[0m\n\u001b[1;32m    618\u001b[0m \u001b[0;34m\u001b[0m\u001b[0m\n\u001b[1;32m    619\u001b[0m     \u001b[0;31m# Create the parser.\u001b[0m\u001b[0;34m\u001b[0m\u001b[0;34m\u001b[0m\u001b[0m\n\u001b[0;32m--> 620\u001b[0;31m     \u001b[0mparser\u001b[0m \u001b[0;34m=\u001b[0m \u001b[0mTextFileReader\u001b[0m\u001b[0;34m(\u001b[0m\u001b[0mfilepath_or_buffer\u001b[0m\u001b[0;34m,\u001b[0m \u001b[0;34m**\u001b[0m\u001b[0mkwds\u001b[0m\u001b[0;34m)\u001b[0m\u001b[0;34m\u001b[0m\u001b[0;34m\u001b[0m\u001b[0m\n\u001b[0m\u001b[1;32m    621\u001b[0m \u001b[0;34m\u001b[0m\u001b[0m\n\u001b[1;32m    622\u001b[0m     \u001b[0;32mif\u001b[0m \u001b[0mchunksize\u001b[0m \u001b[0;32mor\u001b[0m \u001b[0miterator\u001b[0m\u001b[0;34m:\u001b[0m\u001b[0;34m\u001b[0m\u001b[0;34m\u001b[0m\u001b[0m\n",
            "\u001b[0;32m/usr/local/lib/python3.10/dist-packages/pandas/io/parsers/readers.py\u001b[0m in \u001b[0;36m__init__\u001b[0;34m(self, f, engine, **kwds)\u001b[0m\n\u001b[1;32m   1618\u001b[0m \u001b[0;34m\u001b[0m\u001b[0m\n\u001b[1;32m   1619\u001b[0m         \u001b[0mself\u001b[0m\u001b[0;34m.\u001b[0m\u001b[0mhandles\u001b[0m\u001b[0;34m:\u001b[0m \u001b[0mIOHandles\u001b[0m \u001b[0;34m|\u001b[0m \u001b[0;32mNone\u001b[0m \u001b[0;34m=\u001b[0m \u001b[0;32mNone\u001b[0m\u001b[0;34m\u001b[0m\u001b[0;34m\u001b[0m\u001b[0m\n\u001b[0;32m-> 1620\u001b[0;31m         \u001b[0mself\u001b[0m\u001b[0;34m.\u001b[0m\u001b[0m_engine\u001b[0m \u001b[0;34m=\u001b[0m \u001b[0mself\u001b[0m\u001b[0;34m.\u001b[0m\u001b[0m_make_engine\u001b[0m\u001b[0;34m(\u001b[0m\u001b[0mf\u001b[0m\u001b[0;34m,\u001b[0m \u001b[0mself\u001b[0m\u001b[0;34m.\u001b[0m\u001b[0mengine\u001b[0m\u001b[0;34m)\u001b[0m\u001b[0;34m\u001b[0m\u001b[0;34m\u001b[0m\u001b[0m\n\u001b[0m\u001b[1;32m   1621\u001b[0m \u001b[0;34m\u001b[0m\u001b[0m\n\u001b[1;32m   1622\u001b[0m     \u001b[0;32mdef\u001b[0m \u001b[0mclose\u001b[0m\u001b[0;34m(\u001b[0m\u001b[0mself\u001b[0m\u001b[0;34m)\u001b[0m \u001b[0;34m->\u001b[0m \u001b[0;32mNone\u001b[0m\u001b[0;34m:\u001b[0m\u001b[0;34m\u001b[0m\u001b[0;34m\u001b[0m\u001b[0m\n",
            "\u001b[0;32m/usr/local/lib/python3.10/dist-packages/pandas/io/parsers/readers.py\u001b[0m in \u001b[0;36m_make_engine\u001b[0;34m(self, f, engine)\u001b[0m\n\u001b[1;32m   1878\u001b[0m                 \u001b[0;32mif\u001b[0m \u001b[0;34m\"b\"\u001b[0m \u001b[0;32mnot\u001b[0m \u001b[0;32min\u001b[0m \u001b[0mmode\u001b[0m\u001b[0;34m:\u001b[0m\u001b[0;34m\u001b[0m\u001b[0;34m\u001b[0m\u001b[0m\n\u001b[1;32m   1879\u001b[0m                     \u001b[0mmode\u001b[0m \u001b[0;34m+=\u001b[0m \u001b[0;34m\"b\"\u001b[0m\u001b[0;34m\u001b[0m\u001b[0;34m\u001b[0m\u001b[0m\n\u001b[0;32m-> 1880\u001b[0;31m             self.handles = get_handle(\n\u001b[0m\u001b[1;32m   1881\u001b[0m                 \u001b[0mf\u001b[0m\u001b[0;34m,\u001b[0m\u001b[0;34m\u001b[0m\u001b[0;34m\u001b[0m\u001b[0m\n\u001b[1;32m   1882\u001b[0m                 \u001b[0mmode\u001b[0m\u001b[0;34m,\u001b[0m\u001b[0;34m\u001b[0m\u001b[0;34m\u001b[0m\u001b[0m\n",
            "\u001b[0;32m/usr/local/lib/python3.10/dist-packages/pandas/io/common.py\u001b[0m in \u001b[0;36mget_handle\u001b[0;34m(path_or_buf, mode, encoding, compression, memory_map, is_text, errors, storage_options)\u001b[0m\n\u001b[1;32m    871\u001b[0m         \u001b[0;32mif\u001b[0m \u001b[0mioargs\u001b[0m\u001b[0;34m.\u001b[0m\u001b[0mencoding\u001b[0m \u001b[0;32mand\u001b[0m \u001b[0;34m\"b\"\u001b[0m \u001b[0;32mnot\u001b[0m \u001b[0;32min\u001b[0m \u001b[0mioargs\u001b[0m\u001b[0;34m.\u001b[0m\u001b[0mmode\u001b[0m\u001b[0;34m:\u001b[0m\u001b[0;34m\u001b[0m\u001b[0;34m\u001b[0m\u001b[0m\n\u001b[1;32m    872\u001b[0m             \u001b[0;31m# Encoding\u001b[0m\u001b[0;34m\u001b[0m\u001b[0;34m\u001b[0m\u001b[0m\n\u001b[0;32m--> 873\u001b[0;31m             handle = open(\n\u001b[0m\u001b[1;32m    874\u001b[0m                 \u001b[0mhandle\u001b[0m\u001b[0;34m,\u001b[0m\u001b[0;34m\u001b[0m\u001b[0;34m\u001b[0m\u001b[0m\n\u001b[1;32m    875\u001b[0m                 \u001b[0mioargs\u001b[0m\u001b[0;34m.\u001b[0m\u001b[0mmode\u001b[0m\u001b[0;34m,\u001b[0m\u001b[0;34m\u001b[0m\u001b[0;34m\u001b[0m\u001b[0m\n",
            "\u001b[0;31mFileNotFoundError\u001b[0m: [Errno 2] No such file or directory: 'sentimentdep.csv'"
          ]
        }
      ],
      "source": [
        "# Step 2: Cleaning Data involves Removing Stop Words + Lemmatization + Remove [non-word charecters, single charecter, spaces , URLs]\n",
        "from sklearn.model_selection import train_test_split\n",
        "import re\n",
        "import nltk\n",
        "nltk.download('wordnet')\n",
        "nltk.download('stopwords')\n",
        "from nltk.stem import WordNetLemmatizer\n",
        "from nltk.corpus import stopwords\n",
        "import pandas as pd\n",
        "import string\n",
        "\n",
        "def getsentiment(x):\n",
        "    if(x==1):\n",
        "        return -1*x\n",
        "    else:\n",
        "        return x+4\n",
        "\n",
        "tabledep = pd.read_csv(\"sentimentdep.csv\")\n",
        "tabledep[\"label\"] = tabledep[\"label\"].apply(getsentiment)\n",
        "coldep = [tabledep[\"message\"],tabledep[\"label\"]]\n",
        "headers=[\"message\",\"sentiment\"]\n",
        "datadep = pd.concat(coldep, axis=1,keys=headers)\n",
        "print(datadep)\n",
        "\n",
        "tablenorm = pd.read_csv(\"sentimentnorm.csv\",encoding='latin-1',header=None)\n",
        "colnorm = [tablenorm[5],tablenorm[0]]\n",
        "headers=[\"message\",\"sentiment\"]\n",
        "datanorm = pd.concat(colnorm, axis=1,keys=headers)\n",
        "print(datanorm)\n",
        "\n",
        "dataframes = [datadep,datanorm]\n",
        "datatotal = pd.concat(dataframes)\n",
        "\n",
        "print(datatotal)\n",
        "\n",
        "# data = data.head(5000)\n",
        "input_data = datatotal['message']\n",
        "output_data = datatotal['sentiment']\n",
        "\n",
        "\n",
        "sentence = []\n",
        "\n",
        "WordReduced = WordNetLemmatizer()\n",
        "\n",
        "# Stop Words Set\n",
        "stopWordsSet = set(stopwords.words('english'))\n",
        "# print(stopWordsSet)\n",
        "\n",
        "def data_cleaning(data_sentence):\n",
        "    data_sentence = re.sub(r'[^\\w\\s]','',str(data_sentence))\n",
        "\n",
        "    data_sentence = re.sub(r'\\s+[a-zA-Z]\\s+','',data_sentence)\n",
        "\n",
        "    data_sentence = re.sub(r'\\s\\s+','',data_sentence)\n",
        "\n",
        "    data_sentence = re.sub('((www.[^s]+)| (https?://[^s]))','',data_sentence)\n",
        "\n",
        "    data_sentence= data_sentence.lower()\n",
        "\n",
        "    data_sentence = data_sentence.split()\n",
        "\n",
        "    data_sentence = [WordReduced.lemmatize(word) for word in data_sentence]\n",
        "\n",
        "    data_sentence = [word for word in data_sentence if word not in stopWordsSet]\n",
        "\n",
        "    data_sentence = ' '.join(data_sentence)\n",
        "\n",
        "    return data_sentence\n",
        "\n",
        "datatotal[\"message\"] = datatotal[\"message\"].apply(lambda x: data_cleaning(x))\n",
        "print(\"done\")"
      ]
    },
    {
      "cell_type": "code",
      "source": [
        "print(datatotal)\n",
        "print(datatotal[datatotal[\"sentiment\"] == -1][\"message\"])"
      ],
      "metadata": {
        "id": "9oAq6Q1kOZEf"
      },
      "execution_count": null,
      "outputs": []
    },
    {
      "cell_type": "code",
      "source": [
        "# WordCloud on Depression Sentiments\n",
        "print(\"start\")\n",
        "\n",
        "from PIL import Image\n",
        "from wordcloud import WordCloud, STOPWORDS, ImageColorGenerator\n",
        "import matplotlib.pyplot as plt\n",
        "\n",
        "word_cloud_data = datatotal[datatotal['sentiment'] == -1]['message']\n",
        "plt.figure(figsize = (20,20))\n",
        "wc_img_data = WordCloud(max_words = 500, width = 1800 , height = 1800).generate(\" \".join(word_cloud_data))\n",
        "plt.imshow(wc_img_data)\n",
        "print(\"done\")"
      ],
      "metadata": {
        "id": "a4SIBiB3OZ6t"
      },
      "execution_count": null,
      "outputs": []
    },
    {
      "cell_type": "code",
      "source": [
        "# WordCloud on Depressive + Negative Tweets\n",
        "print(\"start\")\n",
        "\n",
        "from PIL import Image\n",
        "from wordcloud import WordCloud, STOPWORDS, ImageColorGenerator\n",
        "import matplotlib.pyplot as plt\n",
        "\n",
        "# print(datatotal)\n",
        "# print(datatotal[datatotal[\"sentiment\"] == -1][\"message\"])\n",
        "word_cloud_data = datatotal[datatotal['sentiment'] <= 0]['message']\n",
        "plt.figure(figsize = (20,20))\n",
        "wc_img_data = WordCloud(max_words = 500, width = 1800 , height = 1800).generate(\" \".join(word_cloud_data))\n",
        "plt.imshow(wc_img_data)\n",
        "print(\"done\")"
      ],
      "metadata": {
        "id": "o-r7rEnwOd8-"
      },
      "execution_count": null,
      "outputs": []
    },
    {
      "cell_type": "code",
      "source": [
        "# WordCloud on Positive Tweets\n",
        "print(\"start\")\n",
        "\n",
        "from PIL import Image\n",
        "from wordcloud import WordCloud, STOPWORDS, ImageColorGenerator\n",
        "import matplotlib.pyplot as plt\n",
        "\n",
        "# print(datatotal)\n",
        "# print(datatotal[datatotal[\"sentiment\"] == -1][\"message\"])\n",
        "word_cloud_data = datatotal[datatotal['sentiment'] == 4]['message']\n",
        "plt.figure(figsize = (20,20))\n",
        "wc_img_data = WordCloud(max_words = 500, width = 1800 , height = 1800).generate(\" \".join(word_cloud_data))\n",
        "plt.imshow(wc_img_data)\n",
        "print(\"done\")"
      ],
      "metadata": {
        "id": "B8tQ24hYOhcc"
      },
      "execution_count": null,
      "outputs": []
    },
    {
      "cell_type": "code",
      "source": [
        "# Splitting data into train and test sets\n",
        "from sklearn.model_selection import train_test_split\n",
        "input_data = datatotal[\"message\"]\n",
        "output_data = datatotal[\"sentiment\"]\n",
        "input_train,input_test,output_train,output_test = train_test_split(input_data , output_data, test_size = 0.2,random_state=156654)\n",
        "print(input_train.shape)\n",
        "print(input_test.shape)"
      ],
      "metadata": {
        "id": "AudpZb2FOoZp"
      },
      "execution_count": null,
      "outputs": []
    },
    {
      "cell_type": "code",
      "source": [
        "# Vectorizing input to input into model\n",
        "print(\"start\")\n",
        "from sklearn.feature_extraction.text import TfidfVectorizer\n",
        "vectoriser= TfidfVectorizer(ngram_range=(1,2),max_features = 500000)\n",
        "vectoriser.fit(input_train)\n",
        "input_train = vectoriser.transform(input_train)\n",
        "input_test = vectoriser.transform(input_test)\n",
        "print(\"done\")"
      ],
      "metadata": {
        "id": "jQ5tmEqIOuN6"
      },
      "execution_count": null,
      "outputs": []
    },
    {
      "cell_type": "code",
      "source": [
        "print(\"start\")\n",
        "from sklearn.neighbors import KNeighborsClassifier\n",
        "from sklearn.tree import DecisionTreeClassifier\n",
        "from sklearn.linear_model import LogisticRegression\n",
        "# model = KNeighborsClassifier(n_neighbors=4)\n",
        "model = LogisticRegression(C=2,max_iter= 1000,n_jobs=-1)\n",
        "print(\"done\")\n",
        "# model = DecisionTreeClassifier()\n",
        "model.fit(input_train, output_train)\n",
        "print(\"done\")"
      ],
      "metadata": {
        "id": "ACL6ylahOxer"
      },
      "execution_count": null,
      "outputs": []
    },
    {
      "cell_type": "code",
      "source": [
        "from sklearn import metrics\n",
        "from sklearn.metrics import classification_report\n",
        "\n",
        "output_predicted = model.predict(input_test)\n",
        "print(\"done\")\n",
        "\n",
        "print(classification_report(output_test,output_predicted))\n",
        "print(\"done\")\n",
        "\n",
        "print(metrics.accuracy_score(output_test,output_predicted))\n",
        "print(\"done\")"
      ],
      "metadata": {
        "id": "XK3U4hlvOyXo"
      },
      "execution_count": null,
      "outputs": []
    }
  ]
}